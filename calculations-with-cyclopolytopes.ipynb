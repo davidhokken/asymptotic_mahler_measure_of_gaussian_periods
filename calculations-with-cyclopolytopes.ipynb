{
 "cells": [
  {
   "cell_type": "markdown",
   "id": "f2109c98",
   "metadata": {},
   "source": [
    "### Routine to compute the cyclopolytope and check reflexivity in PALP"
   ]
  },
  {
   "cell_type": "code",
   "execution_count": 1,
   "id": "c03e16b8",
   "metadata": {},
   "outputs": [],
   "source": [
    "def NN(k): ## routine to compute the cyclopolytope in PALP\n",
    "    K.<t>=CyclotomicField(k)\n",
    "    c = t.coordinates_in_terms_of_powers()\n",
    "    C=[] \n",
    "    [C.append(vector(c(t^m))) for m in range(0,k)]\n",
    "    return LatticePolytope(C), C;"
   ]
  },
  {
   "cell_type": "markdown",
   "id": "dc553efd",
   "metadata": {},
   "source": [
    "### Routine to check that the transportation polytope for k=15 (that is combinatorially dual to the cyclopolytope) is not isometric to the polar dual of the cyclopolytope"
   ]
  },
  {
   "cell_type": "code",
   "execution_count": 2,
   "id": "4ba32a37",
   "metadata": {},
   "outputs": [
    {
     "data": {
      "text/plain": [
       "(8-d reflexive polytope in 8-d lattice M,\n",
       " [(1, 0, 0, 0, 0, 0, 0, 0),\n",
       "  (0, 1, 0, 0, 0, 0, 0, 0),\n",
       "  (0, 0, 1, 0, 0, 0, 0, 0),\n",
       "  (0, 0, 0, 1, 0, 0, 0, 0),\n",
       "  (0, 0, 0, 0, 1, 0, 0, 0),\n",
       "  (0, 0, 0, 0, 0, 1, 0, 0),\n",
       "  (0, 0, 0, 0, 0, 0, 1, 0),\n",
       "  (0, 0, 0, 0, 0, 0, 0, 1),\n",
       "  (-1, 1, 0, -1, 1, -1, 0, 1),\n",
       "  (-1, 0, 1, -1, 0, 0, -1, 1),\n",
       "  (-1, 0, 0, 0, 0, -1, 0, 0),\n",
       "  (0, -1, 0, 0, 0, 0, -1, 0),\n",
       "  (0, 0, -1, 0, 0, 0, 0, -1),\n",
       "  (1, -1, 0, 0, -1, 1, 0, -1),\n",
       "  (1, 0, -1, 1, -1, 0, 1, -1)])"
      ]
     },
     "execution_count": 2,
     "metadata": {},
     "output_type": "execute_result"
    }
   ],
   "source": [
    "NN(15) ## Then need to change bracket style"
   ]
  },
  {
   "cell_type": "code",
   "execution_count": 3,
   "id": "df2b5786",
   "metadata": {},
   "outputs": [],
   "source": [
    "N=Polyhedron(vertices=[[-1, 1, 0, -1, 1, -1, 0, 1],\n",
    "  [-1, 0, 1, -1, 0, 0, -1, 1],\n",
    "  [-1, 0, 0, 0, 0, -1, 0, 0],\n",
    "  [0, -1, 0, 0, 0, 0, -1, 0],\n",
    "  [0, 0, -1, 0, 0, 0, 0, -1],\n",
    "  [1, -1, 0, 0, -1, 1, 0, -1],\n",
    "  [1, 0, -1, 1, -1, 0, 1, -1],\n",
    "  [1, 0, 0, 0, 0, 0, 0, 0],\n",
    "  [0, 1, 0, 0, 0, 0, 0, 0],\n",
    "  [0, 0, 1, 0, 0, 0, 0, 0],\n",
    "  [0, 0, 0, 1, 0, 0, 0, 0],\n",
    "  [0, 0, 0, 0, 1, 0, 0, 0],\n",
    "  [0, 0, 0, 0, 0, 1, 0, 0],\n",
    "  [0, 0, 0, 0, 0, 0, 1, 0],\n",
    "  [0, 0, 0, 0, 0, 0, 0, 1]])"
   ]
  },
  {
   "cell_type": "code",
   "execution_count": 4,
   "id": "f46061cc",
   "metadata": {},
   "outputs": [
    {
     "data": {
      "text/plain": [
       "A 8-dimensional polyhedron in ZZ^8 defined as the convex hull of 15 vertices (use the .plot() method to plot)"
      ]
     },
     "execution_count": 4,
     "metadata": {},
     "output_type": "execute_result"
    }
   ],
   "source": [
    "N"
   ]
  },
  {
   "cell_type": "code",
   "execution_count": 5,
   "id": "0bed8bc9",
   "metadata": {},
   "outputs": [
    {
     "data": {
      "text/plain": [
       "A 8-dimensional polyhedron in ZZ^8 defined as the convex hull of 360 vertices (use the .plot() method to plot)"
      ]
     },
     "execution_count": 5,
     "metadata": {},
     "output_type": "execute_result"
    }
   ],
   "source": [
    "NP=N.polar() ## this is the polar dual of the cyclopolytope for k=15\n",
    "NP"
   ]
  },
  {
   "cell_type": "code",
   "execution_count": 6,
   "id": "eeb865cb",
   "metadata": {},
   "outputs": [],
   "source": [
    "# Now the definition of the (3,5)-transportation polytope by inequalities (H-representation) \n",
    "P=Polyhedron(ieqs=[\n",
    "[0, 1, 0, 0, 0, 0, 0, 0, 0, 0, 0, 0, 0, 0, 0, 0],\n",
    "[0, 0, 1, 0, 0, 0, 0, 0, 0, 0, 0, 0, 0, 0, 0, 0],\n",
    "[0, 0, 0, 1, 0, 0, 0, 0, 0, 0, 0, 0, 0, 0, 0, 0],\n",
    "[0, 0, 0, 0, 1, 0, 0, 0, 0, 0, 0, 0, 0, 0, 0, 0],\n",
    "[0, 0, 0, 0, 0, 1, 0, 0, 0, 0, 0, 0, 0, 0, 0, 0],\n",
    "[0, 0, 0, 0, 0, 0, 1, 0, 0, 0, 0, 0, 0, 0, 0, 0],\n",
    "[0, 0, 0, 0, 0, 0, 0, 1, 0, 0, 0, 0, 0, 0, 0, 0],\n",
    "[0, 0, 0, 0, 0, 0, 0, 0, 1, 0, 0, 0, 0, 0, 0, 0],\n",
    "[0, 0, 0, 0, 0, 0, 0, 0, 0, 1, 0, 0, 0, 0, 0, 0],\n",
    "[0, 0, 0, 0, 0, 0, 0, 0, 0, 0, 1, 0, 0, 0, 0, 0],\n",
    "[0, 0, 0, 0, 0, 0, 0, 0, 0, 0, 0, 1, 0, 0, 0, 0],\n",
    "[0, 0, 0, 0, 0, 0, 0, 0, 0, 0, 0, 0, 1, 0, 0, 0],\n",
    "[0, 0, 0, 0, 0, 0, 0, 0, 0, 0, 0, 0, 0, 1, 0, 0],\n",
    "[0, 0, 0, 0, 0, 0, 0, 0, 0, 0, 0, 0, 0, 0, 1, 0],\n",
    "[0, 0, 0, 0, 0, 0, 0, 0, 0, 0, 0, 0, 0, 0, 0, 1]\n",
    "], eqns = [[-5,1,1,1,1,1,0,0,0,0,0,0,0,0,0,0],\n",
    "           [-5,0,0,0,0,0,1,1,1,1,1,0,0,0,0,0],\n",
    "           [-5,0,0,0,0,0,0,0,0,0,0,1,1,1,1,1],\n",
    "           [-3,1,0,0,0,0,1,0,0,0,0,1,0,0,0,0],\n",
    "           [-3,0,1,0,0,0,0,1,0,0,0,0,1,0,0,0],\n",
    "           [-3,0,0,1,0,0,0,0,1,0,0,0,0,1,0,0],\n",
    "           [-3,0,0,0,1,0,0,0,0,1,0,0,0,0,1,0],\n",
    "           [-3,0,0,0,0,1,0,0,0,0,1,0,0,0,0,1]])"
   ]
  },
  {
   "cell_type": "code",
   "execution_count": 7,
   "id": "ce7e3311",
   "metadata": {},
   "outputs": [
    {
     "data": {
      "text/plain": [
       "A 8-dimensional polyhedron in QQ^15 defined as the convex hull of 360 vertices (use the .plot() method to plot)"
      ]
     },
     "execution_count": 7,
     "metadata": {},
     "output_type": "execute_result"
    }
   ],
   "source": [
    "P"
   ]
  },
  {
   "cell_type": "code",
   "execution_count": 8,
   "id": "5db7ff95",
   "metadata": {},
   "outputs": [],
   "source": [
    "AP=P.affine_hull_projection() ## project down to the right dimension"
   ]
  },
  {
   "cell_type": "code",
   "execution_count": 9,
   "id": "429795e4",
   "metadata": {},
   "outputs": [
    {
     "data": {
      "text/plain": [
       "A 8-dimensional polyhedron in QQ^8 defined as the convex hull of 360 vertices (use the .plot() method to plot)"
      ]
     },
     "execution_count": 9,
     "metadata": {},
     "output_type": "execute_result"
    }
   ],
   "source": [
    "AP"
   ]
  },
  {
   "cell_type": "code",
   "execution_count": 10,
   "id": "5bd9872d",
   "metadata": {},
   "outputs": [],
   "source": [
    "AP.Vrepresentation();"
   ]
  },
  {
   "cell_type": "code",
   "execution_count": 11,
   "id": "3ec0a007",
   "metadata": {},
   "outputs": [],
   "source": [
    "NP.Vrepresentation();"
   ]
  },
  {
   "cell_type": "code",
   "execution_count": 12,
   "id": "142179de",
   "metadata": {},
   "outputs": [
    {
     "data": {
      "text/plain": [
       "True"
      ]
     },
     "execution_count": 12,
     "metadata": {},
     "output_type": "execute_result"
    }
   ],
   "source": [
    "NP.is_combinatorially_isomorphic(AP)"
   ]
  },
  {
   "cell_type": "code",
   "execution_count": 13,
   "id": "876fd4d0",
   "metadata": {},
   "outputs": [],
   "source": [
    "## AP.volume()"
   ]
  },
  {
   "cell_type": "code",
   "execution_count": 14,
   "id": "80c5a4cd",
   "metadata": {},
   "outputs": [],
   "source": [
    "## NP.volume()"
   ]
  },
  {
   "cell_type": "code",
   "execution_count": 15,
   "id": "4c563116",
   "metadata": {},
   "outputs": [
    {
     "data": {
      "text/plain": [
       "(1, 1, 1, 1, 1, 1, 1, 1)"
      ]
     },
     "execution_count": 15,
     "metadata": {},
     "output_type": "execute_result"
    }
   ],
   "source": [
    "AP.center()"
   ]
  },
  {
   "cell_type": "code",
   "execution_count": 16,
   "id": "858d890d",
   "metadata": {},
   "outputs": [
    {
     "data": {
      "text/plain": [
       "(0, 0, 0, 0, 0, 0, 0, 0)"
      ]
     },
     "execution_count": 16,
     "metadata": {},
     "output_type": "execute_result"
    }
   ],
   "source": [
    "NP.center()"
   ]
  },
  {
   "cell_type": "code",
   "execution_count": 26,
   "id": "0798dcff",
   "metadata": {},
   "outputs": [],
   "source": [
    "APT=AP.translation(-AP.center()) # this is so the origin becomes an internal point of AP too"
   ]
  },
  {
   "cell_type": "code",
   "execution_count": 27,
   "id": "ff8b95c8",
   "metadata": {},
   "outputs": [
    {
     "data": {
      "text/plain": [
       "(0, 0, 0, 0, 0, 0, 0, 0)"
      ]
     },
     "execution_count": 27,
     "metadata": {},
     "output_type": "execute_result"
    }
   ],
   "source": [
    "APT.center()"
   ]
  },
  {
   "cell_type": "code",
   "execution_count": 19,
   "id": "b340fc4b",
   "metadata": {},
   "outputs": [],
   "source": [
    "## AP.integral_points();"
   ]
  },
  {
   "cell_type": "code",
   "execution_count": 20,
   "id": "a3aee14f",
   "metadata": {},
   "outputs": [],
   "source": [
    "AA=APT.incidence_matrix()"
   ]
  },
  {
   "cell_type": "code",
   "execution_count": 21,
   "id": "484fb079",
   "metadata": {},
   "outputs": [],
   "source": [
    "BB=NP.incidence_matrix()"
   ]
  },
  {
   "cell_type": "code",
   "execution_count": 22,
   "id": "0a8fb200",
   "metadata": {},
   "outputs": [],
   "source": [
    "U=(AA.transpose()*AA).inverse()*(AA.transpose())*BB ## testing for AA*U=BB by writing down this \"generalized inverse\""
   ]
  },
  {
   "cell_type": "code",
   "execution_count": 23,
   "id": "e1ac44ad",
   "metadata": {},
   "outputs": [
    {
     "data": {
      "text/plain": [
       "-164703063695/38816819923530685612032"
      ]
     },
     "execution_count": 23,
     "metadata": {},
     "output_type": "execute_result"
    }
   ],
   "source": [
    "U.determinant() # this is not integral"
   ]
  },
  {
   "cell_type": "code",
   "execution_count": null,
   "id": "5a8317f0",
   "metadata": {},
   "outputs": [],
   "source": []
  }
 ],
 "metadata": {
  "kernelspec": {
   "display_name": "SageMath 9.6",
   "language": "sage",
   "name": "sagemath-9.6"
  },
  "language_info": {
   "codemirror_mode": {
    "name": "ipython",
    "version": 3
   },
   "file_extension": ".py",
   "mimetype": "text/x-python",
   "name": "python",
   "nbconvert_exporter": "python",
   "pygments_lexer": "ipython3",
   "version": "3.10.3"
  }
 },
 "nbformat": 4,
 "nbformat_minor": 5
}
