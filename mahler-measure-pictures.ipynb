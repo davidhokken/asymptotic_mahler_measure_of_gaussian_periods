{
 "cells": [
  {
   "cell_type": "markdown",
   "id": "f5f13be2-3498-48f7-a352-abe1ee447966",
   "metadata": {},
   "source": [
    "# Worksheet Mahler measures and pictures"
   ]
  },
  {
   "cell_type": "markdown",
   "id": "b8424cbf-0a23-4d84-b9d3-c53b3564fa00",
   "metadata": {},
   "source": [
    "First we import the Ore_algebra package (https://github.com/mkauers/ore_algebra/), and create the algebra of differential operators."
   ]
  },
  {
   "cell_type": "code",
   "execution_count": 57,
   "id": "63b96a0e-2f2c-45fb-a2d5-ef3eea626fbd",
   "metadata": {},
   "outputs": [],
   "source": [
    "from ore_algebra import *\n",
    "\n",
    "Pol.<t> = QQ[]\n",
    "Dop.<Dt> = OreAlgebra(Pol)"
   ]
  },
  {
   "cell_type": "markdown",
   "id": "a0e5d3ff-f952-4462-a7be-6e566129ee38",
   "metadata": {},
   "source": [
    "# k = 6"
   ]
  },
  {
   "cell_type": "markdown",
   "id": "b525e576-cd58-40b9-be4b-9403b510be60",
   "metadata": {},
   "source": [
    "We import the differential operator $\\mathscr{L}_6$"
   ]
  },
  {
   "cell_type": "code",
   "execution_count": 58,
   "id": "24681f88-3f44-4d13-95d5-1c3a3194947d",
   "metadata": {},
   "outputs": [],
   "source": [
    "k = 6\n",
    "dop = (36*t^4 + 24*t^3 + t^2 - t)*Dt^2 + (144*t^3 + 72*t^2 + 2*t - 1)*Dt + 72*t^2 + 24*t"
   ]
  },
  {
   "cell_type": "markdown",
   "id": "6df80629-82b9-4a33-8b91-9166081f22a7",
   "metadata": {},
   "source": [
    "The graph of $\\rho_6$"
   ]
  },
  {
   "cell_type": "code",
   "execution_count": 59,
   "id": "fe88dee9-da75-4fec-8f84-93e00398fef0",
   "metadata": {},
   "outputs": [
    {
     "name": "stdout",
     "output_type": "stream",
     "text": [
      "[log(t), 1]\n"
     ]
    }
   ],
   "source": [
    "print(dop.local_basis_monomials(0))"
   ]
  },
  {
   "cell_type": "markdown",
   "id": "ba169851-ee0e-4558-a20d-8d46ab573233",
   "metadata": {},
   "source": [
    "We pick the unique holomorphic solution of the form $1 + O(t)$. We compute values of $\\rho_6(x)$ using Proposition $7.1.3.$ for 1000 data points in $[0,6]$."
   ]
  },
  {
   "cell_type": "code",
   "execution_count": 61,
   "id": "7348bdd0-e496-460e-9cba-7b094ae7038a",
   "metadata": {},
   "outputs": [],
   "source": [
    "Init = [0,1]\n",
    "L6 = []\n",
    "bd = 1000 #we pick the number data points\n",
    "\n",
    "for j in range(1,bd):\n",
    "    pt = j/bd*k+1/10000 #The 1/10000 is chosen arbitrary such that pt doesn't hit a singularity...\n",
    "    density_at_pt = 1/2/pi/I*1/pt*(dop.numerical_solution(Init, [0, I ,1/pt]) + dop.numerical_solution(Init, [0, - I ,-1/pt]) - dop.numerical_solution(Init, [0, -I ,1/pt]) - dop.numerical_solution(Init, [0, I ,-1/pt]))\n",
    "    L6.append([pt,density_at_pt.real().n(200)])"
   ]
  },
  {
   "cell_type": "markdown",
   "id": "32745f41-d3a8-4c6c-ad5c-57d7addb8a77",
   "metadata": {},
   "source": [
    "We plot the graph of $\\rho_6$ with the overlay of the half-normal distribution."
   ]
  },
  {
   "cell_type": "code",
   "execution_count": 62,
   "id": "7fd5b169-cda4-4046-b737-b7f7578c7bb3",
   "metadata": {},
   "outputs": [],
   "source": [
    "P6=list_plot(L6,size=2,color=\"black\")+plot((2/pi/6)^(1/2)*e^(-x^2/6),(x,0,6),linestyle=\"dashed\",color=\"grey\")"
   ]
  },
  {
   "cell_type": "code",
   "execution_count": 63,
   "id": "07ba9d5c-d6be-49d8-8fa4-7d32f2b7d66f",
   "metadata": {},
   "outputs": [
    {
     "data": {
      "image/png": "[encoded data removed]",
      "text/plain": [
       "Graphics object consisting of 2 graphics primitives"
      ]
     },
     "execution_count": 63,
     "metadata": {},
     "output_type": "execute_result"
    }
   ],
   "source": [
    "P6"
   ]
  },
  {
   "cell_type": "markdown",
   "id": "d22c4560-2d81-414a-8552-540b88ef2b43",
   "metadata": {},
   "source": [
    "The Mahler measure $\\mathrm{m}(C_6)$"
   ]
  },
  {
   "cell_type": "code",
   "execution_count": 10,
   "id": "0c8269c1-a23e-4c9a-8dd3-f0bb9a0e896f",
   "metadata": {},
   "outputs": [
    {
     "name": "stdout",
     "output_type": "stream",
     "text": [
      "[1/6*log(t)^3, 1/2*log(t)^2, log(t), 1]\n"
     ]
    }
   ],
   "source": [
    "theta = t*Dt\n",
    "dopmahler = dop*theta^2\n",
    "print(dopmahler.local_basis_monomials(0))"
   ]
  },
  {
   "cell_type": "markdown",
   "id": "f5bd5734-5776-49b0-9815-5c7956189969",
   "metadata": {},
   "source": [
    "We pick the unique solution of the form $1/2 \\log(t)^2 + O(t)$"
   ]
  },
  {
   "cell_type": "code",
   "execution_count": 11,
   "id": "e05380b7-7fed-4f1c-8284-0be1e484803c",
   "metadata": {},
   "outputs": [],
   "source": [
    "Init = [0,1,0,0]\n",
    "\n",
    "def B(x, prec):\n",
    "    v1 = dopmahler.numerical_solution(Init, [0, I ,x],prec)\n",
    "    v2 = dopmahler.numerical_solution(Init, [0, -I ,-x],prec)\n",
    "    v3 = dopmahler.numerical_solution(Init, [0, -I ,x],prec)\n",
    "    v4 = dopmahler.numerical_solution(Init, [0, I ,-x],prec)\n",
    "    return v1 + v2 - v3 - v4"
   ]
  },
  {
   "cell_type": "markdown",
   "id": "5874ac15-78e1-4c3c-9e55-db40ae5f1a89",
   "metadata": {},
   "source": [
    "And we compute the Mahler measure to arbitrary precision 'prec' (in this case 100 decimals are correct)"
   ]
  },
  {
   "cell_type": "code",
   "execution_count": 54,
   "id": "7a365eba-bb6c-4990-9058-d020707c3eb1",
   "metadata": {},
   "outputs": [
    {
     "data": {
      "text/plain": [
       "0.6439432099535060034172224762200973427953697006933692844471454558924126682908178235043022582059213409"
      ]
     },
     "execution_count": 54,
     "metadata": {},
     "output_type": "execute_result"
    }
   ],
   "source": [
    "prec = 10^(-101)\n",
    "((log(k) - 1/2/pi/I*(B(1/k,prec)-B(1,prec))).real()).n(digits = 100)"
   ]
  },
  {
   "cell_type": "markdown",
   "id": "ec0b675b-4a07-4f85-bce4-4535b094cc09",
   "metadata": {},
   "source": [
    "# k = 8"
   ]
  },
  {
   "cell_type": "markdown",
   "id": "545404db-f5ec-4077-8887-6b4fe3421e63",
   "metadata": {},
   "source": [
    "We import the differential operator $\\mathscr{L}_8$"
   ]
  },
  {
   "cell_type": "code",
   "execution_count": 68,
   "id": "3e934222-d044-40a3-944b-b774603210bb",
   "metadata": {},
   "outputs": [],
   "source": [
    "k = 8\n",
    "dop = t^3*(4*t - 1)*(4*t + 1)*(8*t - 1)*(8*t + 1)*Dt^4+ 2*t^2*(64*t^2 - 3)*(112*t^2 - 1)*Dt^3+ t*(55296*t^4 - 2048*t^2 + 7)*Dt^2 + (61440*t^4 - 1344*t^2 + 1)*Dt + 128*t*(96*t^2 - 1)"
   ]
  },
  {
   "cell_type": "markdown",
   "id": "ffaf8de1-c7bb-4ad8-a0ec-61aa5f79af6c",
   "metadata": {},
   "source": [
    "The graph of $\\rho_8$"
   ]
  },
  {
   "cell_type": "code",
   "execution_count": 69,
   "id": "c4ecae46-401c-44bc-8321-bd8beb77195c",
   "metadata": {},
   "outputs": [
    {
     "name": "stdout",
     "output_type": "stream",
     "text": [
      "[1/6*log(t)^3, 1/2*log(t)^2, log(t), 1]\n"
     ]
    }
   ],
   "source": [
    "print(dop.local_basis_monomials(0))"
   ]
  },
  {
   "cell_type": "markdown",
   "id": "f150d671-7a44-4ffc-94f8-b7b3e842d173",
   "metadata": {},
   "source": [
    "We pick the unique holomorphic solution of the form $1 + O(t)$. We compute values of $\\rho_8(x)$ using Proposition $7.1.3.$ for 1000 data points in $[0,8]$."
   ]
  },
  {
   "cell_type": "code",
   "execution_count": 70,
   "id": "ae167bc3-008a-458f-a2d5-91dfe4e2dee1",
   "metadata": {},
   "outputs": [],
   "source": [
    "Init = [0,0,0,1]\n",
    "L8 = []\n",
    "bd = 1000 #we pick the number data points\n",
    "\n",
    "for j in range(1,bd):\n",
    "    pt = j/bd*k+1/10000 #The 1/10000 is chosen arbitrary such that pt doesn't hit a singularity...\n",
    "    density_at_pt = 1/2/pi/I*1/pt*(dop.numerical_solution(Init, [0, I ,1/pt]) + dop.numerical_solution(Init, [0, - I ,-1/pt]) - dop.numerical_solution(Init, [0, -I ,1/pt]) - dop.numerical_solution(Init, [0, I ,-1/pt]))\n",
    "    L8.append([pt,density_at_pt.real().n(200)])"
   ]
  },
  {
   "cell_type": "markdown",
   "id": "49fc8227-3164-4a18-a1f7-7db644a0ff7b",
   "metadata": {},
   "source": [
    "We plot the graph of $\\rho_8$ with the overlay of the half-normal distribution."
   ]
  },
  {
   "cell_type": "code",
   "execution_count": 71,
   "id": "b049b5b6-7f1b-454c-aae4-a3ef40c0719e",
   "metadata": {},
   "outputs": [],
   "source": [
    "P8=list_plot(L8,size=2,color=\"black\")+plot((2/pi/8)^(1/2)*e^(-x^2/8),(x,0,8),linestyle=\"dashed\",color=\"grey\")"
   ]
  },
  {
   "cell_type": "code",
   "execution_count": 72,
   "id": "78522ed8-43ca-4b8b-a124-ac0e1ab023b6",
   "metadata": {},
   "outputs": [
    {
     "data": {
      "image/png": "[encoded data removed]",
      "text/plain": [
       "Graphics object consisting of 2 graphics primitives"
      ]
     },
     "execution_count": 72,
     "metadata": {},
     "output_type": "execute_result"
    }
   ],
   "source": [
    "P8"
   ]
  },
  {
   "cell_type": "markdown",
   "id": "5889152d-88c8-46b5-be5a-76aad902abb2",
   "metadata": {},
   "source": [
    "The Mahler measure $\\mathrm{m}(C_8)$"
   ]
  },
  {
   "cell_type": "code",
   "execution_count": 73,
   "id": "6d54b84c-cb25-488b-9898-01f6092ad6a3",
   "metadata": {},
   "outputs": [
    {
     "name": "stdout",
     "output_type": "stream",
     "text": [
      "[1/120*log(t)^5, 1/24*log(t)^4, 1/6*log(t)^3, 1/2*log(t)^2, log(t), 1]\n"
     ]
    }
   ],
   "source": [
    "theta = t*Dt\n",
    "dopmahler = dop*theta^2\n",
    "print(dopmahler.local_basis_monomials(0))"
   ]
  },
  {
   "cell_type": "markdown",
   "id": "26d20a0b-d343-4e2a-909b-a3e5039db2b7",
   "metadata": {},
   "source": [
    "We pick the unique solution of the form $1/2 \\log(t)^2 + O(t)$"
   ]
  },
  {
   "cell_type": "code",
   "execution_count": 78,
   "id": "7f43139e-3643-4c15-bde4-3fc66e186b52",
   "metadata": {},
   "outputs": [],
   "source": [
    "Init = [0,0,0,1,0,0]\n",
    "\n",
    "def B(x, prec):\n",
    "    v1 = dopmahler.numerical_solution(Init, [0, I ,x],prec)\n",
    "    v2 = dopmahler.numerical_solution(Init, [0, -I ,-x],prec)\n",
    "    v3 = dopmahler.numerical_solution(Init, [0, -I ,x],prec)\n",
    "    v4 = dopmahler.numerical_solution(Init, [0, I ,-x],prec)\n",
    "    return v1 + v2 - v3 - v4"
   ]
  },
  {
   "cell_type": "markdown",
   "id": "d4355e18-d344-4dc3-869d-7c3cbbdc3bf7",
   "metadata": {},
   "source": [
    "And we compute the Mahler measure to arbitrary precision 'prec' (in this case 100 decimals are correct)"
   ]
  },
  {
   "cell_type": "code",
   "execution_count": 79,
   "id": "13583489-947b-455b-9e0d-a906565885a7",
   "metadata": {},
   "outputs": [
    {
     "data": {
      "text/plain": [
       "0.7042270121862433111679064666810378103512223974613922753329526940224853688517724701446102110091160754"
      ]
     },
     "execution_count": 79,
     "metadata": {},
     "output_type": "execute_result"
    }
   ],
   "source": [
    "prec = 10^(-101)\n",
    "((log(k) - 1/2/pi/I*(B(1/k,prec)-B(1,prec))).real()).n(digits = 100)"
   ]
  },
  {
   "cell_type": "markdown",
   "id": "6acb115b-1ead-401a-919b-798ce4e5bf1a",
   "metadata": {},
   "source": [
    "# k = 10"
   ]
  },
  {
   "cell_type": "markdown",
   "id": "16f9b00b-b9f2-43f3-b601-6ede8dbf2500",
   "metadata": {},
   "source": [
    "We import the differential operator $\\mathscr{L}_{10}$"
   ]
  },
  {
   "cell_type": "code",
   "execution_count": 86,
   "id": "74dd4585-cacc-4e29-a48f-e1d97f2837ee",
   "metadata": {},
   "outputs": [],
   "source": [
    "k = 10\n",
    "dop = t^3 * (2*t - 1) * (3*t - 1) * (6*t + 1) * (10*t - 1) * (90*t - 23)^2 * (25*t^2 - 5*t - 1) * Dt^4 + 2*t^2 * (90*t - 23) * (\n",
    "    6480000*t^7 - 7344000*t^6 + 2610600*t^5 - 152120*t^4 \n",
    "    - 83118*t^3 + 10880*t^2 + 548*t - 69\n",
    ") * Dt^3+ t * (\n",
    "    5248800000*t^8 - 6823440000*t^7 + 3244068000*t^6 - 607966800*t^5 \n",
    "    - 2477080*t^4 + 14831484*t^3 - 1231504*t^2 - 44114*t + 3703\n",
    ") * Dt^2 + (\n",
    "    6998400000*t^8 - 8475840000*t^7 + 3805992000*t^6 - 710474400*t^5 \n",
    "    + 20154160*t^4 + 9778296*t^3 - 889272*t^2 - 6394*t + 529\n",
    ") * Dt + (\n",
    "    1749600000*t^7 - 1963440000*t^6 + 822024000*t^5 - 147444000*t^4 \n",
    "    + 6697440*t^3 + 1010160*t^2 - 84640*t\n",
    ")\n"
   ]
  },
  {
   "cell_type": "markdown",
   "id": "9ce15456-fdef-4f82-ac82-641c118702eb",
   "metadata": {},
   "source": [
    "The graph of $\\rho_{10}$"
   ]
  },
  {
   "cell_type": "code",
   "execution_count": 87,
   "id": "62aea364-fd7e-4558-a79e-214baaa45dcb",
   "metadata": {},
   "outputs": [
    {
     "name": "stdout",
     "output_type": "stream",
     "text": [
      "[1/6*log(t)^3, 1/2*log(t)^2, log(t), 1]\n"
     ]
    }
   ],
   "source": [
    "print(dop.local_basis_monomials(0))"
   ]
  },
  {
   "cell_type": "markdown",
   "id": "3b6302c9-2ece-4c9e-a8bd-7cb0e00db87d",
   "metadata": {},
   "source": [
    "We pick the unique holomorphic solution of the form $1 + O(t)$. We compute values of $\\rho_{10}(x)$ using Proposition $7.1.3.$ for 1000 data points in $[0,10]$."
   ]
  },
  {
   "cell_type": "code",
   "execution_count": 88,
   "id": "eb26fd9f-baba-413d-b3ef-77f23b2f1fef",
   "metadata": {},
   "outputs": [],
   "source": [
    "Init = [0,0,0,1]\n",
    "L10 = []\n",
    "bd = 1000 #we pick the number data points\n",
    "\n",
    "for j in range(1,bd):\n",
    "    pt = j/bd*k+1/10000 #The 1/10000 is chosen arbitrary such that pt doesn't hit a singularity...\n",
    "    density_at_pt = 1/2/pi/I*1/pt*(dop.numerical_solution(Init, [0, I ,1/pt]) + dop.numerical_solution(Init, [0, - I ,-1/pt]) - dop.numerical_solution(Init, [0, -I ,1/pt]) - dop.numerical_solution(Init, [0, I ,-1/pt]))\n",
    "    L10.append([pt,density_at_pt.real().n(200)])"
   ]
  },
  {
   "cell_type": "markdown",
   "id": "20d493db-bdd8-449b-8d7c-474b9aa01f41",
   "metadata": {},
   "source": [
    "We plot the graph of $\\rho_{10}$ with the overlay of the half-normal distribution."
   ]
  },
  {
   "cell_type": "code",
   "execution_count": 89,
   "id": "113c617a-c75a-4561-9db6-580f26eaebdc",
   "metadata": {},
   "outputs": [],
   "source": [
    "P10=list_plot(L10,size=2,color=\"black\")+plot((2/pi/10)^(1/2)*e^(-x^2/10),(x,0,10),linestyle=\"dashed\",color=\"grey\")"
   ]
  },
  {
   "cell_type": "code",
   "execution_count": 90,
   "id": "133a5c69-0d5f-4277-a8ef-510b2ad8bb2e",
   "metadata": {},
   "outputs": [
    {
     "data": {
      "image/png": "[encoded data removed]",
      "text/plain": [
       "Graphics object consisting of 2 graphics primitives"
      ]
     },
     "execution_count": 90,
     "metadata": {},
     "output_type": "execute_result"
    }
   ],
   "source": [
    "P10"
   ]
  },
  {
   "cell_type": "markdown",
   "id": "423edee0-160c-4061-a52c-596c9ae85248",
   "metadata": {},
   "source": [
    "The Mahler measure $\\mathrm{m}(C_{10})$"
   ]
  },
  {
   "cell_type": "code",
   "execution_count": 83,
   "id": "bd0bed66-0bd4-4a52-8957-d3290902c33f",
   "metadata": {},
   "outputs": [
    {
     "name": "stdout",
     "output_type": "stream",
     "text": [
      "[1/120*log(t)^5, 1/24*log(t)^4, 1/6*log(t)^3, 1/2*log(t)^2, log(t), 1]\n"
     ]
    }
   ],
   "source": [
    "theta = t*Dt\n",
    "dopmahler = dop*theta^2\n",
    "print(dopmahler.local_basis_monomials(0))"
   ]
  },
  {
   "cell_type": "markdown",
   "id": "3b3dba06-ee21-4a28-8252-9c7fad863dde",
   "metadata": {},
   "source": [
    "We pick the unique solution of the form $1/2 \\log(t)^2 + O(t)$"
   ]
  },
  {
   "cell_type": "code",
   "execution_count": 84,
   "id": "8d107e32-01c5-4f19-a468-7e1d46a4ca0b",
   "metadata": {},
   "outputs": [],
   "source": [
    "Init = [0,0,0,1,0,0]\n",
    "\n",
    "def B(x, prec):\n",
    "    v1 = dopmahler.numerical_solution(Init, [0, I ,x],prec)\n",
    "    v2 = dopmahler.numerical_solution(Init, [0, -I ,-x],prec)\n",
    "    v3 = dopmahler.numerical_solution(Init, [0, -I ,x],prec)\n",
    "    v4 = dopmahler.numerical_solution(Init, [0, I ,-x],prec)\n",
    "    return v1 + v2 - v3 - v4"
   ]
  },
  {
   "cell_type": "markdown",
   "id": "a0ddc770-a9d7-44e9-a63b-5576a2dfa1c0",
   "metadata": {},
   "source": [
    "And we compute the Mahler measure to arbitrary precision 'prec' (in this case 100 decimals are correct)"
   ]
  },
  {
   "cell_type": "code",
   "execution_count": 85,
   "id": "9ff7e8aa-54c0-404e-98ae-d5b8343548a7",
   "metadata": {},
   "outputs": [
    {
     "data": {
      "text/plain": [
       "0.7891727197000755802620669580296496343437639212151279221737858525428857610829794883500212978389853852"
      ]
     },
     "execution_count": 85,
     "metadata": {},
     "output_type": "execute_result"
    }
   ],
   "source": [
    "prec = 10^(-101)\n",
    "((log(k) - 1/2/pi/I*(B(1/k,prec)-B(1,prec))).real()).n(digits = 100)"
   ]
  },
  {
   "cell_type": "code",
   "execution_count": null,
   "id": "f10ba820-daa9-485b-bf25-32d99c62b92c",
   "metadata": {},
   "outputs": [],
   "source": []
  }
 ],
 "metadata": {
  "kernelspec": {
   "display_name": "SageMath 10.4",
   "language": "sage",
   "name": "sagemath"
  },
  "language_info": {
   "codemirror_mode": {
    "name": "ipython",
    "version": 3
   },
   "file_extension": ".py",
   "mimetype": "text/x-python",
   "name": "python",
   "nbconvert_exporter": "python",
   "pygments_lexer": "ipython3",
   "version": "3.11.11"
  }
 },
 "nbformat": 4,
 "nbformat_minor": 5
}
